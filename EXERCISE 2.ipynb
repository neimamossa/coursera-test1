{
 "cells": [
  {
   "cell_type": "code",
   "execution_count": 153,
   "id": "30cfbcbd-44da-4605-b0ce-7671b8c73e19",
   "metadata": {},
   "outputs": [],
   "source": [
    "import sys\n",
    "import keyword\n",
    "import operator\n",
    "from datetime import datetime\n",
    "import os"
   ]
  },
  {
   "cell_type": "markdown",
   "id": "cc968f74-2f1a-49c8-ad07-9d6fa0d15ef2",
   "metadata": {},
   "source": [
    "## KeyWOrds\n",
    "# Keywords are the reserved words in Python and can't be used as an identifier"
   ]
  },
  {
   "cell_type": "markdown",
   "id": "fc91ef65-21b1-48f4-bf4c-5d67b2586595",
   "metadata": {},
   "source": [
    "print(keyword.kwlist) # List all Python Keywords"
   ]
  },
  {
   "cell_type": "code",
   "execution_count": 157,
   "id": "6304d529-6f37-4d1e-a50a-2f9b9fd2e940",
   "metadata": {},
   "outputs": [
    {
     "data": {
      "text/plain": [
       "35"
      ]
     },
     "execution_count": 157,
     "metadata": {},
     "output_type": "execute_result"
    }
   ],
   "source": [
    "len(keyword.kwlist) # Python contains 35 keywords"
   ]
  },
  {
   "cell_type": "markdown",
   "id": "83d857b3-df5e-4183-8b55-af6162368248",
   "metadata": {},
   "source": [
    "# Identifiers\n",
    "## An identifier is a name given to entities like class, functions, variables, etc. It helps to differentiate one entity from another"
   ]
  },
  {
   "cell_type": "code",
   "execution_count": 160,
   "id": "982718f1-2fb7-438b-b6bd-60d382f9c051",
   "metadata": {},
   "outputs": [],
   "source": [
    "#1var = 10 # Identifier can't start with a digit\n",
    "#val2@ = 35 # Identifier can't use special symbols\n",
    "#import = 125 # Keywords can't be used as identifiers"
   ]
  },
  {
   "cell_type": "code",
   "execution_count": 162,
   "id": "6e16eb0d-d867-4849-b29b-4e5ca5d7a2ce",
   "metadata": {},
   "outputs": [],
   "source": [
    "\"\"\"\n",
    "Correct way of defining an identifier\n",
    "(Identifiers can be a combination of letters in lowercase (a to z) or uppercase (\n",
    "\"\"\"\n",
    "val2 = 10"
   ]
  },
  {
   "cell_type": "markdown",
   "id": "34db1cf9-204a-4681-8ed4-9f6bea58e99f",
   "metadata": {},
   "source": [
    "# Statements\n",
    "## Instructions that a Python interpreter can execut"
   ]
  },
  {
   "cell_type": "code",
   "execution_count": 165,
   "id": "bd9a7ff2-0f45-4d8d-bb3d-e366fc9b9d53",
   "metadata": {},
   "outputs": [
    {
     "data": {
      "text/plain": [
       "30"
      ]
     },
     "execution_count": 165,
     "metadata": {},
     "output_type": "execute_result"
    }
   ],
   "source": [
    "#Single line statement\n",
    "p1 = 10 + 20\n",
    "p1"
   ]
  },
  {
   "cell_type": "code",
   "execution_count": 167,
   "id": "c767b7f0-bce2-4b2c-8a20-3b202bb1b22b",
   "metadata": {},
   "outputs": [
    {
     "data": {
      "text/plain": [
       "['a', 'b', 'c', 'd']"
      ]
     },
     "execution_count": 167,
     "metadata": {},
     "output_type": "execute_result"
    }
   ],
   "source": [
    "# Single line statement\n",
    "p2 = ['a' , 'b' , 'c' , 'd']\n",
    "p2"
   ]
  },
  {
   "cell_type": "code",
   "execution_count": 169,
   "id": "bae689de-ef26-4d1b-a292-e1d40a631d94",
   "metadata": {},
   "outputs": [
    {
     "data": {
      "text/plain": [
       "290"
      ]
     },
     "execution_count": 169,
     "metadata": {},
     "output_type": "execute_result"
    }
   ],
   "source": [
    "#Multiple line statement\n",
    "p1 = 20 + 30 \\\n",
    "+ 40 + 50 +\\\n",
    "+ 70 + 80\n",
    "p1"
   ]
  },
  {
   "cell_type": "code",
   "execution_count": 171,
   "id": "f0dfef32-d033-4ce8-9616-c5b0c7963863",
   "metadata": {},
   "outputs": [
    {
     "data": {
      "text/plain": [
       "['a', 'b', 'c', 'd']"
      ]
     },
     "execution_count": 171,
     "metadata": {},
     "output_type": "execute_result"
    }
   ],
   "source": [
    "#Multiple line statement\n",
    "p2 = ['a' ,\n",
    "'b' ,\n",
    "'c' ,\n",
    "'d'\n",
    "]\n",
    "p2"
   ]
  },
  {
   "cell_type": "markdown",
   "id": "e3f9764b-d544-4e1b-a366-8481767f63dc",
   "metadata": {},
   "source": [
    "# Indentation\n",
    "## Indentation refers to the spaces at the beginning of a code line. It is very important as Python uses\n",
    "## indentation to indicate a block of code.If the indentation is not correct we will endup with\n",
    "## IndentationError error \n"
   ]
  },
  {
   "cell_type": "code",
   "execution_count": 174,
   "id": "f13600ef-26b6-41e3-9781-6a2a5bc6e02a",
   "metadata": {},
   "outputs": [
    {
     "name": "stdout",
     "output_type": "stream",
     "text": [
      "P is equal to 10\n"
     ]
    }
   ],
   "source": [
    "p = 10\n",
    "if p == 10:\n",
    "    print ('P is equal to 10') # correct indentation"
   ]
  },
  {
   "cell_type": "code",
   "execution_count": 176,
   "id": "cf4c0cdc-aa9f-4bcb-888e-60ee3bc1b6ab",
   "metadata": {},
   "outputs": [
    {
     "name": "stdout",
     "output_type": "stream",
     "text": [
      "0\n",
      "1\n",
      "2\n",
      "3\n",
      "4\n"
     ]
    }
   ],
   "source": [
    "for i in range(0,5): #\n",
    "    print(i) # correct indentation"
   ]
  },
  {
   "cell_type": "code",
   "execution_count": 178,
   "id": "f19fdce6-0ccf-446f-b503-2c74dccfbb2d",
   "metadata": {},
   "outputs": [
    {
     "name": "stdout",
     "output_type": "stream",
     "text": [
      "0\n",
      "1\n",
      "2\n",
      "3\n",
      "4\n",
      "20\n"
     ]
    }
   ],
   "source": [
    "j=20\n",
    "for i in range(0,5): #range(0, 5) generates a sequence of numbers from 0 to 4 (inclusive).\n",
    "    print(i) # inside the for loop\n",
    "print(j) # outside the for loo"
   ]
  },
  {
   "cell_type": "markdown",
   "id": "50787fc8-1c11-4355-8018-d08eee40ea1f",
   "metadata": {},
   "source": [
    "# Docstrings\n",
    "## 1) Docstrings provide a convenient way of associating documentation with functions, classes, methods or modules.\n",
    "## 2) They appear right after the definition of a function, method, class, or module."
   ]
  },
  {
   "cell_type": "code",
   "execution_count": 181,
   "id": "53d3e294-0cba-4c3c-af41-df88ee2d8276",
   "metadata": {},
   "outputs": [],
   "source": [
    "def square(X): #Square Function :- This function will return the square of a number'''\n",
    "    return X**2"
   ]
  },
  {
   "cell_type": "code",
   "execution_count": 183,
   "id": "f1e47841-66fa-436c-8bc1-709e0f136552",
   "metadata": {},
   "outputs": [
    {
     "data": {
      "text/plain": [
       "4"
      ]
     },
     "execution_count": 183,
     "metadata": {},
     "output_type": "execute_result"
    }
   ],
   "source": [
    "square(2) #Square Function :- This function will return the square of a number'"
   ]
  },
  {
   "cell_type": "code",
   "execution_count": 185,
   "id": "bd41725f-1f26-4962-8433-b7f5428550a3",
   "metadata": {},
   "outputs": [],
   "source": [
    "square.__doc__ # We can access the Docstring using __doc__ method"
   ]
  },
  {
   "cell_type": "code",
   "execution_count": 187,
   "id": "129d384a-ea95-423a-a86c-34d5a87c6971",
   "metadata": {},
   "outputs": [],
   "source": [
    "def evenodd(num): #'''evenodd Function :- This function will test whether a numbr is Even or Odd '''\n",
    "    if num % 2 == 0:\n",
    "        print(\"Even Number\")\n",
    "    else:\n",
    "        print(\"Odd Number\")"
   ]
  },
  {
   "cell_type": "code",
   "execution_count": 189,
   "id": "55c11aa7-061b-4fc5-ac1e-96a7e500f1b6",
   "metadata": {},
   "outputs": [
    {
     "name": "stdout",
     "output_type": "stream",
     "text": [
      "Odd Number\n"
     ]
    }
   ],
   "source": [
    "evenodd(3) #'evenodd Function :- This function will test whether a numbr is Even or Odd"
   ]
  },
  {
   "cell_type": "markdown",
   "id": "6fb1e1d7-040b-47fa-84b7-92533c20797d",
   "metadata": {},
   "source": [
    "# Variables\n",
    "## A Python variable is a reserved memory location to store values.A variable is created the moment you first assign a value to it."
   ]
  },
  {
   "cell_type": "code",
   "execution_count": 192,
   "id": "6e5f1675-f92c-4a22-8d0e-a2fdeaf4c31a",
   "metadata": {},
   "outputs": [],
   "source": [
    "p=30"
   ]
  },
  {
   "cell_type": "code",
   "execution_count": 194,
   "id": "a66343b6-e96d-4c9c-8ab9-05549cb5a39b",
   "metadata": {},
   "outputs": [
    {
     "data": {
      "text/plain": [
       "140719340793176"
      ]
     },
     "execution_count": 194,
     "metadata": {},
     "output_type": "execute_result"
    }
   ],
   "source": [
    "'''\n",
    "id() function returns the “identity” of the object.\n",
    "The identity of an object - Is an integer\n",
    "- Guaranteed to be unique\n",
    "- Constant for this object during its lifetime.\n",
    "'''\n",
    "id(p)"
   ]
  },
  {
   "cell_type": "code",
   "execution_count": 196,
   "id": "03677313-c1bd-46ed-8dd2-3449c5f634fb",
   "metadata": {},
   "outputs": [
    {
     "data": {
      "text/plain": [
       "'0x7ffbc6522d58'"
      ]
     },
     "execution_count": 196,
     "metadata": {},
     "output_type": "execute_result"
    }
   ],
   "source": [
    "hex(id(p)) # Memory address of the variable"
   ]
  },
  {
   "cell_type": "code",
   "execution_count": 198,
   "id": "3cf204ab-b364-41ce-9567-f84dea8ea876",
   "metadata": {},
   "outputs": [
    {
     "data": {
      "text/plain": [
       "(20, int, '0x7ffbc6522c18')"
      ]
     },
     "execution_count": 198,
     "metadata": {},
     "output_type": "execute_result"
    }
   ],
   "source": [
    "p = 20 #Creates an integer object with value 20 and assigns the variable p to point\n",
    "q = 20 # Create new reference q which will point to value 20. p & q will be poin\n",
    "r = q # variable r will also point to the same location where p & q are pointing\n",
    "p , type(p), hex(id(p)) # Variable P is pointing to memory location '0x7fff6d71a3"
   ]
  },
  {
   "cell_type": "code",
   "execution_count": 200,
   "id": "4fcc7ebe-8448-4938-96dd-50cad4602f15",
   "metadata": {},
   "outputs": [
    {
     "data": {
      "text/plain": [
       "(20, int, '0x7ffbc6522c18')"
      ]
     },
     "execution_count": 200,
     "metadata": {},
     "output_type": "execute_result"
    }
   ],
   "source": [
    "q , type(q), hex(id(q))"
   ]
  },
  {
   "cell_type": "code",
   "execution_count": 202,
   "id": "2341ad15-8279-47fa-aa2e-54f85932eab9",
   "metadata": {},
   "outputs": [
    {
     "data": {
      "text/plain": [
       "(20, int, '0x7ffbc6522c18')"
      ]
     },
     "execution_count": 202,
     "metadata": {},
     "output_type": "execute_result"
    }
   ],
   "source": [
    "r , type(r), hex(id(r))"
   ]
  },
  {
   "cell_type": "markdown",
   "id": "29c36605-6d4b-426a-a853-7143673f6304",
   "metadata": {},
   "source": [
    "# Variable Assigment"
   ]
  },
  {
   "cell_type": "code",
   "execution_count": 205,
   "id": "68850496-e761-4777-80fe-d639e825ccbb",
   "metadata": {},
   "outputs": [
    {
     "name": "stdout",
     "output_type": "stream",
     "text": [
      "10\n",
      "2.57\n",
      "Python Language\n"
     ]
    }
   ],
   "source": [
    "intvar = 10 # Integer variable\n",
    "floatvar = 2.57 # Float Variable\n",
    "strvar = \"Python Language\" # String variable\n",
    "print(intvar)\n",
    "print(floatvar)\n",
    "print(strvar)"
   ]
  },
  {
   "cell_type": "markdown",
   "id": "1e2ab0a2-e6de-4810-9034-2f8ea5131e1e",
   "metadata": {},
   "source": [
    "# Multiple Assignments"
   ]
  },
  {
   "cell_type": "code",
   "execution_count": 208,
   "id": "042604a7-11f8-4c73-83c2-b0116b106f87",
   "metadata": {},
   "outputs": [
    {
     "name": "stdout",
     "output_type": "stream",
     "text": [
      "10\n",
      "2.57\n",
      "Python Language\n"
     ]
    }
   ],
   "source": [
    "intvar , floatvar , strvar = 10,2.57,\"Python Language\" # Using commas to separate\n",
    "print(intvar)\n",
    "print(floatvar)\n",
    "print(strvar)"
   ]
  },
  {
   "cell_type": "code",
   "execution_count": 210,
   "id": "7dde0ca7-fb8f-44a3-891a-4f01b48db927",
   "metadata": {},
   "outputs": [
    {
     "name": "stdout",
     "output_type": "stream",
     "text": [
      "44 44 44 44\n"
     ]
    }
   ],
   "source": [
    "p1 = p2 = p3 = p4 = 44 # All variables pointing to same value\n",
    "print(p1,p2,p3,p4)"
   ]
  },
  {
   "cell_type": "markdown",
   "id": "6e065247-7f5c-4ec6-82c1-4e842dc83f62",
   "metadata": {},
   "source": [
    "# Data Types\n",
    "## Numeric"
   ]
  },
  {
   "cell_type": "code",
   "execution_count": 213,
   "id": "649534a3-d835-43ec-b5fa-dc9adcf0c023",
   "metadata": {},
   "outputs": [
    {
     "name": "stdout",
     "output_type": "stream",
     "text": [
      "10\n",
      "<class 'int'>\n",
      "28\n",
      "10  is Integer? True\n"
     ]
    }
   ],
   "source": [
    "val1 = 10 # Integer data type\n",
    "print(val1)\n",
    "print(type(val1)) # type of object\n",
    "print(sys.getsizeof(val1)) # size of integer object in bytes\n",
    "print(val1, \" is Integer?\", isinstance(val1, int)) # val1 is an instance of int c"
   ]
  },
  {
   "cell_type": "code",
   "execution_count": 215,
   "id": "6799e706-1770-4330-9b7b-b18139498df5",
   "metadata": {},
   "outputs": [
    {
     "name": "stdout",
     "output_type": "stream",
     "text": [
      "(25+10j)\n",
      "<class 'complex'>\n",
      "32\n",
      "(25+10j)  is complex? True\n"
     ]
    }
   ],
   "source": [
    "val3 = 25 + 10j # Complex data type\n",
    "print(val3)\n",
    "print(type(val3)) # type of object\n",
    "print(sys.getsizeof(val3)) # size of float object in bytes\n",
    "print(val3, \" is complex?\", isinstance(val3, complex)) # val3 is an instance of "
   ]
  },
  {
   "cell_type": "code",
   "execution_count": 217,
   "id": "103ba164-95c6-401d-96ef-709cacbeb9aa",
   "metadata": {},
   "outputs": [
    {
     "data": {
      "text/plain": [
       "28"
      ]
     },
     "execution_count": 217,
     "metadata": {},
     "output_type": "execute_result"
    }
   ],
   "source": [
    "sys.getsizeof(int()) # size of integer object in bytes"
   ]
  },
  {
   "cell_type": "code",
   "execution_count": 219,
   "id": "bb63c524-f408-40de-9566-dd11117ad0f6",
   "metadata": {},
   "outputs": [
    {
     "data": {
      "text/plain": [
       "24"
      ]
     },
     "execution_count": 219,
     "metadata": {},
     "output_type": "execute_result"
    }
   ],
   "source": [
    "sys.getsizeof(float()) # size of integer object in bytes, this indicates that the integer object with the value 0 occupies 24 bytes of memory."
   ]
  },
  {
   "cell_type": "code",
   "execution_count": 221,
   "id": "1a2f9da5-410b-45a7-b734-abb8f43f567d",
   "metadata": {},
   "outputs": [
    {
     "data": {
      "text/plain": [
       "32"
      ]
     },
     "execution_count": 221,
     "metadata": {},
     "output_type": "execute_result"
    }
   ],
   "source": [
    "sys.getsizeof(complex()) # size of integer object in bytes"
   ]
  },
  {
   "cell_type": "markdown",
   "id": "558ed287-f0d1-42ea-9419-d5a64a0faadd",
   "metadata": {},
   "source": [
    "# Boolean\n",
    "## Boolean data type can have only two possible values true or false"
   ]
  },
  {
   "cell_type": "code",
   "execution_count": 224,
   "id": "930ce436-1e64-4f5e-8116-73a50261423a",
   "metadata": {},
   "outputs": [],
   "source": [
    "bool1 = True"
   ]
  },
  {
   "cell_type": "code",
   "execution_count": 226,
   "id": "258f0272-5ad7-4398-972b-29efdb2e67f1",
   "metadata": {},
   "outputs": [
    {
     "name": "stdout",
     "output_type": "stream",
     "text": [
      "<class 'bool'>\n"
     ]
    }
   ],
   "source": [
    "print(type(bool1))"
   ]
  },
  {
   "cell_type": "code",
   "execution_count": 228,
   "id": "76682a4c-3db4-49ea-bba2-17681f3c7e65",
   "metadata": {},
   "outputs": [
    {
     "data": {
      "text/plain": [
       "True"
      ]
     },
     "execution_count": 228,
     "metadata": {},
     "output_type": "execute_result"
    }
   ],
   "source": [
    "isinstance(bool1, bool)"
   ]
  },
  {
   "cell_type": "code",
   "execution_count": 230,
   "id": "8cd3466f-af11-446d-922e-6f6e1eba04b1",
   "metadata": {},
   "outputs": [
    {
     "data": {
      "text/plain": [
       "False"
      ]
     },
     "execution_count": 230,
     "metadata": {},
     "output_type": "execute_result"
    }
   ],
   "source": [
    "bool(0)"
   ]
  },
  {
   "cell_type": "code",
   "execution_count": 232,
   "id": "2e10d3e9-f02d-4d92-bee5-3e8a6d8abe6d",
   "metadata": {},
   "outputs": [
    {
     "data": {
      "text/plain": [
       "True"
      ]
     },
     "execution_count": 232,
     "metadata": {},
     "output_type": "execute_result"
    }
   ],
   "source": [
    "bool(1)"
   ]
  },
  {
   "cell_type": "code",
   "execution_count": 234,
   "id": "d4ca9d40-4ab5-4020-a51a-f54e5eb72500",
   "metadata": {},
   "outputs": [
    {
     "data": {
      "text/plain": [
       "False"
      ]
     },
     "execution_count": 234,
     "metadata": {},
     "output_type": "execute_result"
    }
   ],
   "source": [
    "bool(None)"
   ]
  },
  {
   "cell_type": "markdown",
   "id": "e71cc08c-66ba-40d0-851d-b3b6dbb36576",
   "metadata": {},
   "source": [
    "# Strings"
   ]
  },
  {
   "cell_type": "markdown",
   "id": "dcc34f80-f847-42a2-9651-5dd3045c1be6",
   "metadata": {},
   "source": [
    "## String Creation"
   ]
  },
  {
   "cell_type": "code",
   "execution_count": 238,
   "id": "85b67144-6574-46df-a621-aceadbbe8966",
   "metadata": {},
   "outputs": [
    {
     "name": "stdout",
     "output_type": "stream",
     "text": [
      "Hello World\n"
     ]
    }
   ],
   "source": [
    "mystr = 'Hello World' # Define string using single quotes\n",
    "print(mystr)"
   ]
  },
  {
   "cell_type": "code",
   "execution_count": 240,
   "id": "aaa55a16-3433-48ee-93ac-10695263f79d",
   "metadata": {},
   "outputs": [
    {
     "name": "stdout",
     "output_type": "stream",
     "text": [
      "Hello World\n"
     ]
    }
   ],
   "source": [
    "mystr = \"Hello World\" # Define string using double quotes\n",
    "print(mystr)"
   ]
  },
  {
   "cell_type": "code",
   "execution_count": 242,
   "id": "6910977f-15d3-4ae7-8068-ff23392b0079",
   "metadata": {},
   "outputs": [
    {
     "name": "stdout",
     "output_type": "stream",
     "text": [
      "Hello\n",
      "          World \n"
     ]
    }
   ],
   "source": [
    "mystr = '''Hello\n",
    "          World ''' # Define string using triple quotes\n",
    "print(mystr)"
   ]
  },
  {
   "cell_type": "code",
   "execution_count": 244,
   "id": "a2252945-a58d-4302-ac32-ab33746dcb0f",
   "metadata": {},
   "outputs": [
    {
     "name": "stdout",
     "output_type": "stream",
     "text": [
      "Hello\n",
      "World\n"
     ]
    }
   ],
   "source": [
    "mystr = \"\"\"Hello\n",
    "World\"\"\" # Define string using triple quotes\n",
    "print(mystr)"
   ]
  },
  {
   "cell_type": "code",
   "execution_count": 246,
   "id": "63aba3f7-3f2a-4a48-bb3a-c49ad83d81e0",
   "metadata": {},
   "outputs": [
    {
     "name": "stdout",
     "output_type": "stream",
     "text": [
      "Happy Monday Everyone\n"
     ]
    }
   ],
   "source": [
    "mystr = ('Happy '\n",
    "'Monday '\n",
    "'Everyone')\n",
    "print(mystr)"
   ]
  },
  {
   "cell_type": "code",
   "execution_count": 248,
   "id": "7d486b60-b546-4f9a-b20c-656e9baeacf2",
   "metadata": {},
   "outputs": [
    {
     "data": {
      "text/plain": [
       "'Woohoo Woohoo Woohoo Woohoo Woohoo '"
      ]
     },
     "execution_count": 248,
     "metadata": {},
     "output_type": "execute_result"
    }
   ],
   "source": [
    "mystr2 = 'Woohoo '\n",
    "mystr2 = mystr2*5\n",
    "mystr2"
   ]
  },
  {
   "cell_type": "code",
   "execution_count": 250,
   "id": "b6a5342c-9bac-428b-927f-8ec4e55cb3b1",
   "metadata": {},
   "outputs": [
    {
     "data": {
      "text/plain": [
       "35"
      ]
     },
     "execution_count": 250,
     "metadata": {},
     "output_type": "execute_result"
    }
   ],
   "source": [
    "len(mystr2) # Length of string"
   ]
  },
  {
   "cell_type": "markdown",
   "id": "944260fd-f785-479e-a4e3-b590ab0753a8",
   "metadata": {},
   "source": [
    "_________________________________________________________________>\n",
    "\n",
    " ####  0     1     2     3     4     5    6    7   8    9    10    11\n",
    "###    H     E     L     L     O          P    Y   T    H    O     N\n",
    "#### -12   -11   -10    -9   - 8   -7   -6   -5  -4   -3    -2    -1\n",
    "\n",
    "<______________________________________________________________________\n",
    "\n"
   ]
  },
  {
   "cell_type": "code",
   "execution_count": 253,
   "id": "161d8844-09ec-4f44-ba02-7dbfaff1b1c9",
   "metadata": {},
   "outputs": [],
   "source": [
    "str1= \"HELLO PYTHON\""
   ]
  },
  {
   "cell_type": "code",
   "execution_count": 255,
   "id": "99921011-4591-43f8-820d-d3dbc68d7848",
   "metadata": {},
   "outputs": [
    {
     "data": {
      "text/plain": [
       "'HELLO PYTHON'"
      ]
     },
     "execution_count": 255,
     "metadata": {},
     "output_type": "execute_result"
    }
   ],
   "source": [
    "str1"
   ]
  },
  {
   "cell_type": "code",
   "execution_count": 257,
   "id": "953d49cf-6626-43fb-bfe4-d723b921d210",
   "metadata": {},
   "outputs": [
    {
     "data": {
      "text/plain": [
       "'H'"
      ]
     },
     "execution_count": 257,
     "metadata": {},
     "output_type": "execute_result"
    }
   ],
   "source": [
    "str1[0]"
   ]
  },
  {
   "cell_type": "code",
   "execution_count": 259,
   "id": "734e02b8-329f-46d4-911f-7e95fae18c38",
   "metadata": {},
   "outputs": [
    {
     "data": {
      "text/plain": [
       "'N'"
      ]
     },
     "execution_count": 259,
     "metadata": {},
     "output_type": "execute_result"
    }
   ],
   "source": [
    "str1[len(str1)-1]  # Last character in string using len function"
   ]
  },
  {
   "cell_type": "code",
   "execution_count": 261,
   "id": "be56b91f-ec2e-4145-a10a-a5f1b902a512",
   "metadata": {},
   "outputs": [
    {
     "data": {
      "text/plain": [
       "'N'"
      ]
     },
     "execution_count": 261,
     "metadata": {},
     "output_type": "execute_result"
    }
   ],
   "source": [
    "str1[-1] # Last character in string"
   ]
  },
  {
   "cell_type": "code",
   "execution_count": 263,
   "id": "b24ae6bf-258b-495e-bff7-91f982452b10",
   "metadata": {},
   "outputs": [
    {
     "data": {
      "text/plain": [
       "'P'"
      ]
     },
     "execution_count": 263,
     "metadata": {},
     "output_type": "execute_result"
    }
   ],
   "source": [
    "str1[6] #Fetch 7th element of the string"
   ]
  },
  {
   "cell_type": "code",
   "execution_count": 265,
   "id": "57836ece-8c98-449a-8dd6-42966376f10e",
   "metadata": {},
   "outputs": [
    {
     "data": {
      "text/plain": [
       "' '"
      ]
     },
     "execution_count": 265,
     "metadata": {},
     "output_type": "execute_result"
    }
   ],
   "source": [
    "str1[5]"
   ]
  },
  {
   "cell_type": "markdown",
   "id": "e2be4b99-3a61-4525-9e2e-2506c31cf7a7",
   "metadata": {},
   "source": [
    "# String Slicing"
   ]
  },
  {
   "cell_type": "code",
   "execution_count": 268,
   "id": "5c3399fa-41d0-41b0-a6fd-5e6b7cbabcee",
   "metadata": {},
   "outputs": [
    {
     "data": {
      "text/plain": [
       "'HELLO'"
      ]
     },
     "execution_count": 268,
     "metadata": {},
     "output_type": "execute_result"
    }
   ],
   "source": [
    "str1[0:5] # String slicing - Fetch all characters from 0 to 5 index location excl"
   ]
  },
  {
   "cell_type": "code",
   "execution_count": 270,
   "id": "782eb0c8-518f-4d82-b350-57f80bbc2ac7",
   "metadata": {},
   "outputs": [
    {
     "data": {
      "text/plain": [
       "'PYTHON'"
      ]
     },
     "execution_count": 270,
     "metadata": {},
     "output_type": "execute_result"
    }
   ],
   "source": [
    "str1[6:12] # String slicing - Retreive all characters between 6 - 12 index loc ex"
   ]
  },
  {
   "cell_type": "code",
   "execution_count": 272,
   "id": "2cfb410d-5cf5-4c7d-aa03-a0f9c4796cfa",
   "metadata": {},
   "outputs": [
    {
     "data": {
      "text/plain": [
       "'HELLO '"
      ]
     },
     "execution_count": 272,
     "metadata": {},
     "output_type": "execute_result"
    }
   ],
   "source": [
    "str1[:6] # Retreive first six characters of the string"
   ]
  },
  {
   "cell_type": "code",
   "execution_count": 274,
   "id": "bac03274-202e-41e6-93ef-cb03f21dafed",
   "metadata": {},
   "outputs": [
    {
     "data": {
      "text/plain": [
       "'THON'"
      ]
     },
     "execution_count": 274,
     "metadata": {},
     "output_type": "execute_result"
    }
   ],
   "source": [
    "str1[-4:] # Retreive last four characters of the string"
   ]
  },
  {
   "cell_type": "markdown",
   "id": "447fa3a3-98db-462d-a764-d222b7da3393",
   "metadata": {},
   "source": [
    "# Update & Delete String"
   ]
  },
  {
   "cell_type": "code",
   "execution_count": null,
   "id": "293ca7b3-6f16-42dc-b5e3-91c8300ee39c",
   "metadata": {},
   "outputs": [],
   "source": []
  },
  {
   "cell_type": "code",
   "execution_count": 280,
   "id": "293e9041-45cf-4bb2-904b-99f5c1de02ed",
   "metadata": {},
   "outputs": [
    {
     "data": {
      "text/plain": [
       "'HELLO PYTHON'"
      ]
     },
     "execution_count": 280,
     "metadata": {},
     "output_type": "execute_result"
    }
   ],
   "source": [
    "str1"
   ]
  },
  {
   "cell_type": "code",
   "execution_count": 282,
   "id": "1b3506eb-6b49-4d12-ab7c-33caa6fd24c9",
   "metadata": {},
   "outputs": [],
   "source": [
    "#Strings are immutable which means elements of a string cannot be changed once th\n",
    " #str1[0:5] = 'HOLAA'"
   ]
  },
  {
   "cell_type": "code",
   "execution_count": 284,
   "id": "a2754f4a-09ca-4afb-8461-01c8065cdf2c",
   "metadata": {},
   "outputs": [
    {
     "ename": "NameError",
     "evalue": "name 'srt1' is not defined",
     "output_type": "error",
     "traceback": [
      "\u001b[1;31m---------------------------------------------------------------------------\u001b[0m",
      "\u001b[1;31mNameError\u001b[0m                                 Traceback (most recent call last)",
      "Cell \u001b[1;32mIn[284], line 2\u001b[0m\n\u001b[0;32m      1\u001b[0m \u001b[38;5;28;01mdel\u001b[39;00m str1 \u001b[38;5;66;03m# Delete a string\u001b[39;00m\n\u001b[1;32m----> 2\u001b[0m \u001b[38;5;28mprint\u001b[39m(srt1)\n",
      "\u001b[1;31mNameError\u001b[0m: name 'srt1' is not defined"
     ]
    }
   ],
   "source": [
    "del str1 # Delete a string\n",
    "print(srt1)"
   ]
  },
  {
   "cell_type": "markdown",
   "id": "1d95c2ae-67f6-4398-8867-f2502152ce94",
   "metadata": {},
   "source": [
    "#  String concatenation"
   ]
  },
  {
   "cell_type": "code",
   "execution_count": 303,
   "id": "bc297eb0-45b9-4196-a5dd-ec5ca7042ba0",
   "metadata": {},
   "outputs": [
    {
     "name": "stdout",
     "output_type": "stream",
     "text": [
      "HelloAsif\n"
     ]
    }
   ],
   "source": [
    "# String concatenation\n",
    "s1 = \"Hello\"\n",
    "s2 = \"Asif\"\n",
    "s3 = s1 + s2\n",
    "print(s3)"
   ]
  },
  {
   "cell_type": "code",
   "execution_count": 311,
   "id": "5d1d8b87-ad3f-4ca1-9200-43f300c020af",
   "metadata": {},
   "outputs": [
    {
     "name": "stdout",
     "output_type": "stream",
     "text": [
      "Hello Asif\n"
     ]
    }
   ],
   "source": [
    "s4 = s1 + ' ' + s2\n",
    "print(s4)"
   ]
  },
  {
   "cell_type": "markdown",
   "id": "8f432c52-3a76-47b9-bf5e-348047456ceb",
   "metadata": {},
   "source": [
    "#  Iterating through a String"
   ]
  },
  {
   "cell_type": "code",
   "execution_count": 314,
   "id": "5ffcd4c9-3ab1-43d8-af0a-94d07dc5d0b9",
   "metadata": {},
   "outputs": [],
   "source": [
    "mystr1 = \"Hello Everyone\""
   ]
  },
  {
   "cell_type": "code",
   "execution_count": 318,
   "id": "08f0272d-f42a-42e8-b5e1-5184c0b51c8e",
   "metadata": {},
   "outputs": [
    {
     "name": "stdout",
     "output_type": "stream",
     "text": [
      "H\n",
      "e\n",
      "l\n",
      "l\n",
      "o\n",
      " \n",
      "E\n",
      "v\n",
      "e\n",
      "r\n",
      "y\n",
      "o\n",
      "n\n",
      "e\n"
     ]
    }
   ],
   "source": [
    "# Iteration\n",
    "for i in mystr1:\n",
    "    print(i)"
   ]
  },
  {
   "cell_type": "code",
   "execution_count": 326,
   "id": "530d7774-1b00-4277-b83f-ddb2cfee9388",
   "metadata": {},
   "outputs": [
    {
     "name": "stdout",
     "output_type": "stream",
     "text": [
      "(0, 'H')\n",
      "(1, 'e')\n",
      "(2, 'l')\n",
      "(3, 'l')\n",
      "(4, 'o')\n",
      "(5, ' ')\n",
      "(6, 'E')\n",
      "(7, 'v')\n",
      "(8, 'e')\n",
      "(9, 'r')\n",
      "(10, 'y')\n",
      "(11, 'o')\n",
      "(12, 'n')\n",
      "(13, 'e')\n"
     ]
    }
   ],
   "source": [
    "for i in enumerate(mystr1):\n",
    "   print(i)"
   ]
  },
  {
   "cell_type": "code",
   "execution_count": 328,
   "id": "74f6f45f-c866-42c5-b999-850005014ea3",
   "metadata": {},
   "outputs": [
    {
     "data": {
      "text/plain": [
       "[(0, 'H'),\n",
       " (1, 'e'),\n",
       " (2, 'l'),\n",
       " (3, 'l'),\n",
       " (4, 'o'),\n",
       " (5, ' '),\n",
       " (6, 'E'),\n",
       " (7, 'v'),\n",
       " (8, 'e'),\n",
       " (9, 'r'),\n",
       " (10, 'y'),\n",
       " (11, 'o'),\n",
       " (12, 'n'),\n",
       " (13, 'e')]"
      ]
     },
     "execution_count": 328,
     "metadata": {},
     "output_type": "execute_result"
    }
   ],
   "source": [
    "list(enumerate(mystr1)) # Enumerate method adds a counter to an iterable and retu"
   ]
  },
  {
   "cell_type": "markdown",
   "id": "e1572178-76d6-44fe-bf0a-c15332005b89",
   "metadata": {},
   "source": [
    "# String Membership"
   ]
  },
  {
   "cell_type": "code",
   "execution_count": 330,
   "id": "e12019a6-4c94-4927-b7e6-d190c4d215fb",
   "metadata": {},
   "outputs": [
    {
     "name": "stdout",
     "output_type": "stream",
     "text": [
      "True\n",
      "True\n",
      "False\n"
     ]
    }
   ],
   "source": [
    "String membership\n",
    "mystr1 = \"Hello Everyone\"\n",
    "print ('Hello' in mystr1) # Check whether substring \"Hello\" is present in string\n",
    "print ('Everyone' in mystr1) # Check whether substring \"Everyone\" is present in s\n",
    "print ('Hi' in mystr1) # Check whether substring \"Hi\" is present in string \"mysr"
   ]
  },
  {
   "cell_type": "markdown",
   "id": "393c51bd-8235-4a32-9fca-3f9c3f262aab",
   "metadata": {},
   "source": [
    "#  String Partitioning"
   ]
  },
  {
   "cell_type": "code",
   "execution_count": 334,
   "id": "7645ae90-39b4-4e5c-94bc-725207fe287b",
   "metadata": {},
   "outputs": [
    {
     "name": "stdout",
     "output_type": "stream",
     "text": [
      "('Natural language processing with Python ', 'and', ' R and Java')\n"
     ]
    }
   ],
   "source": [
    "\"\"\"\n",
    "The partition() method searches for a specified string and splits the string into\n",
    "- The first element contains the part before the argument string.\n",
    "- The second element contains the argument string.\n",
    "- The third element contains the part after the argument string.\n",
    "\"\"\"\n",
    "str5 = \"Natural language processing with Python and R and Java\"\n",
    "L = str5.partition(\"and\")\n",
    "print(L)"
   ]
  },
  {
   "cell_type": "markdown",
   "id": "d185cd4f-48ff-4e3a-8ef7-fc5c0dad5df4",
   "metadata": {},
   "source": [
    "# String Functions"
   ]
  },
  {
   "cell_type": "code",
   "execution_count": 347,
   "id": "e7c68af0-beb4-4fd2-985d-3656eac437e4",
   "metadata": {},
   "outputs": [
    {
     "data": {
      "text/plain": [
       "' Hello Everyone '"
      ]
     },
     "execution_count": 347,
     "metadata": {},
     "output_type": "execute_result"
    }
   ],
   "source": [
    "mystr2 = \" Hello Everyone \"\n",
    "mystr2"
   ]
  },
  {
   "cell_type": "code",
   "execution_count": 349,
   "id": "7fb57f3e-eff2-4693-a3c6-48a983b0262b",
   "metadata": {},
   "outputs": [
    {
     "data": {
      "text/plain": [
       "'Hello Everyone'"
      ]
     },
     "execution_count": 349,
     "metadata": {},
     "output_type": "execute_result"
    }
   ],
   "source": [
    "mystr2.strip() # Removes white space from begining & end"
   ]
  },
  {
   "cell_type": "code",
   "execution_count": 351,
   "id": "b1bec2e6-5548-4984-8865-ae63c55f0db0",
   "metadata": {},
   "outputs": [
    {
     "data": {
      "text/plain": [
       "' Hello Everyone'"
      ]
     },
     "execution_count": 351,
     "metadata": {},
     "output_type": "execute_result"
    }
   ],
   "source": [
    "mystr2.rstrip() # Removes all whitespaces at the end of the string"
   ]
  },
  {
   "cell_type": "code",
   "execution_count": 353,
   "id": "6e930aed-c73b-4338-9f59-64656066d7aa",
   "metadata": {},
   "outputs": [
    {
     "data": {
      "text/plain": [
       "'Hello Everyone '"
      ]
     },
     "execution_count": 353,
     "metadata": {},
     "output_type": "execute_result"
    }
   ],
   "source": [
    "mystr2.lstrip() # Removes all whitespaces at the begining of the strin"
   ]
  },
  {
   "cell_type": "code",
   "execution_count": 355,
   "id": "27cab4ac-8b8b-4c03-87a0-f75285edc7f3",
   "metadata": {},
   "outputs": [
    {
     "data": {
      "text/plain": [
       "'*********Hello Everyone***********All the Best**********'"
      ]
     },
     "execution_count": 355,
     "metadata": {},
     "output_type": "execute_result"
    }
   ],
   "source": [
    "mystr2 = \"*********Hello Everyone***********All the Best**********\"\n",
    "mystr2"
   ]
  },
  {
   "cell_type": "code",
   "execution_count": 357,
   "id": "9dda1f77-f746-4b6b-9387-753f31c1496c",
   "metadata": {},
   "outputs": [
    {
     "data": {
      "text/plain": [
       "'Hello Everyone***********All the Best'"
      ]
     },
     "execution_count": 357,
     "metadata": {},
     "output_type": "execute_result"
    }
   ],
   "source": [
    "mystr2.strip('*') # Removes all '*' characters from begining & end of the stri"
   ]
  },
  {
   "cell_type": "code",
   "execution_count": 359,
   "id": "3408dedc-c40b-446f-9fcd-f5952fc33fb1",
   "metadata": {},
   "outputs": [
    {
     "data": {
      "text/plain": [
       "'*********Hello Everyone***********All the Best'"
      ]
     },
     "execution_count": 359,
     "metadata": {},
     "output_type": "execute_result"
    }
   ],
   "source": [
    "mystr2.rstrip('*') # Removes all '*' characters at the end of the strin"
   ]
  },
  {
   "cell_type": "code",
   "execution_count": 361,
   "id": "8e8a8fad-76e8-4d1d-b93e-6aac540ab156",
   "metadata": {},
   "outputs": [
    {
     "data": {
      "text/plain": [
       "'Hello Everyone***********All the Best**********'"
      ]
     },
     "execution_count": 361,
     "metadata": {},
     "output_type": "execute_result"
    }
   ],
   "source": [
    "mystr2.lstrip('*') # Removes all '*' characters at the begining of the strin"
   ]
  },
  {
   "cell_type": "code",
   "execution_count": 363,
   "id": "7090ad31-670f-4df1-9313-b67fa4dc5647",
   "metadata": {},
   "outputs": [],
   "source": [
    "mystr2 = \" Hello Everyone \""
   ]
  },
  {
   "cell_type": "code",
   "execution_count": 365,
   "id": "344f0559-648e-4170-9d64-c90c822769ab",
   "metadata": {},
   "outputs": [
    {
     "data": {
      "text/plain": [
       "' hello everyone '"
      ]
     },
     "execution_count": 365,
     "metadata": {},
     "output_type": "execute_result"
    }
   ],
   "source": [
    "mystr2.lower() # Return whole string in lowercase"
   ]
  },
  {
   "cell_type": "code",
   "execution_count": 367,
   "id": "b743a261-78e7-4ddd-a520-61267a1a49df",
   "metadata": {},
   "outputs": [
    {
     "data": {
      "text/plain": [
       "' HELLO EVERYONE '"
      ]
     },
     "execution_count": 367,
     "metadata": {},
     "output_type": "execute_result"
    }
   ],
   "source": [
    "mystr2.upper() # Return whole string in uppercase"
   ]
  },
  {
   "cell_type": "code",
   "execution_count": 369,
   "id": "e644dbeb-08d9-4c73-9b92-1f0615480eb0",
   "metadata": {},
   "outputs": [
    {
     "data": {
      "text/plain": [
       "' Hollo Everyone '"
      ]
     },
     "execution_count": 369,
     "metadata": {},
     "output_type": "execute_result"
    }
   ],
   "source": [
    "mystr2.replace(\"He\" , \"Ho\") #Replace substring \"He\" with \"Ho\""
   ]
  },
  {
   "cell_type": "code",
   "execution_count": 371,
   "id": "fe623463-1a8f-4e3f-8994-ea3bf6a0e265",
   "metadata": {},
   "outputs": [
    {
     "data": {
      "text/plain": [
       "'HelloEveryone'"
      ]
     },
     "execution_count": 371,
     "metadata": {},
     "output_type": "execute_result"
    }
   ],
   "source": [
    "mystr2.replace(\" \" , \"\") # Remove all whitespaces using replace function"
   ]
  },
  {
   "cell_type": "code",
   "execution_count": 373,
   "id": "2d130a7b-c3ab-4131-bb99-43d3d310ef4f",
   "metadata": {},
   "outputs": [],
   "source": [
    "mystr5 = \"one two Three one two two three\""
   ]
  },
  {
   "cell_type": "code",
   "execution_count": 375,
   "id": "03b0e6bb-d29d-4302-9cdc-8fa651b45e39",
   "metadata": {},
   "outputs": [
    {
     "data": {
      "text/plain": [
       "2"
      ]
     },
     "execution_count": 375,
     "metadata": {},
     "output_type": "execute_result"
    }
   ],
   "source": [
    "mystr5.count(\"one\") # Number of times substring \"one\" occurred in strng"
   ]
  },
  {
   "cell_type": "code",
   "execution_count": 377,
   "id": "15331c91-67d4-4b04-b8ac-00f509d3fbd9",
   "metadata": {},
   "outputs": [
    {
     "data": {
      "text/plain": [
       "3"
      ]
     },
     "execution_count": 377,
     "metadata": {},
     "output_type": "execute_result"
    }
   ],
   "source": [
    "mystr5.count(\"two\") # Number of times substring \"two\" occurred in string."
   ]
  },
  {
   "cell_type": "code",
   "execution_count": 379,
   "id": "0c55f889-70b8-431a-a086-caaba7497571",
   "metadata": {},
   "outputs": [
    {
     "data": {
      "text/plain": [
       "True"
      ]
     },
     "execution_count": 379,
     "metadata": {},
     "output_type": "execute_result"
    }
   ],
   "source": [
    "mystr5.startswith(\"one\") # Return boolean value True if string starts with \"one\""
   ]
  },
  {
   "cell_type": "code",
   "execution_count": 381,
   "id": "653641b6-3d01-4ffa-a888-b3d6687dadaf",
   "metadata": {},
   "outputs": [
    {
     "data": {
      "text/plain": [
       "True"
      ]
     },
     "execution_count": 381,
     "metadata": {},
     "output_type": "execute_result"
    }
   ],
   "source": [
    "mystr5.endswith(\"three\") # Return boolean value True if string ends with \"three\""
   ]
  },
  {
   "cell_type": "code",
   "execution_count": 387,
   "id": "a17ee5ad-4f44-4577-a56b-c577bd9782ee",
   "metadata": {},
   "outputs": [],
   "source": [
    "mystr4 = \"one two three four one two two three five five six seven six seven one\""
   ]
  },
  {
   "cell_type": "code",
   "execution_count": 389,
   "id": "dfd34026-0db2-48a1-b937-b00b1ebb9357",
   "metadata": {},
   "outputs": [
    {
     "data": {
      "text/plain": [
       "['one',\n",
       " 'two',\n",
       " 'three',\n",
       " 'four',\n",
       " 'one',\n",
       " 'two',\n",
       " 'two',\n",
       " 'three',\n",
       " 'five',\n",
       " 'five',\n",
       " 'six',\n",
       " 'seven',\n",
       " 'six',\n",
       " 'seven',\n",
       " 'one']"
      ]
     },
     "execution_count": 389,
     "metadata": {},
     "output_type": "execute_result"
    }
   ],
   "source": [
    "mylist = mystr4.split() # Split String into substrings\n",
    "mylist"
   ]
  },
  {
   "cell_type": "code",
   "execution_count": 395,
   "id": "e4f775e8-cdd2-499a-9e06-4ff465fa6e09",
   "metadata": {},
   "outputs": [
    {
     "name": "stdout",
     "output_type": "stream",
     "text": [
      "Cost of item1 , item2 and item3 are 40 , 55 and 77\n"
     ]
    }
   ],
   "source": [
    "# Combining string & numbers using format method\n",
    "item1 = 40\n",
    "item2 = 55\n",
    "item3 = 77\n",
    "res = \"Cost of item1 , item2 and item3 are {} , {} and {}\" #res is a string with placeholders {} to represent where the values of item1, item2, and item3 will be inserted.\n",
    "print(res.format(item1,item2,item3)) #.format() method is used to replace these placeholders with the actual values:"
   ]
  },
  {
   "cell_type": "code",
   "execution_count": 397,
   "id": "79e06e9c-cbcb-479c-9a36-8d214572a601",
   "metadata": {},
   "outputs": [
    {
     "name": "stdout",
     "output_type": "stream",
     "text": [
      "Cost of item3 , item2 and item1 are 77 , 55 and 40\n"
     ]
    }
   ],
   "source": [
    "# Combining string & numbers using format method\n",
    "item1 = 40\n",
    "item2 = 55\n",
    "item3 = 77\n",
    "res = \"Cost of item3 , item2 and item1 are {2} , {1} and {0}\"\n",
    "print(res.format(item1,item2,item3))"
   ]
  },
  {
   "cell_type": "code",
   "execution_count": 399,
   "id": "aceb21e1-5c82-4e8e-9d62-5fcbb1e5a46b",
   "metadata": {},
   "outputs": [
    {
     "name": "stdout",
     "output_type": "stream",
     "text": [
      "                                          WELCOME EVERYONE                                          \n"
     ]
    }
   ],
   "source": [
    "str2 = \" WELCOME EVERYONE \"\n",
    "str2 = str2.center(100) # center align the string using a specific character as t\n",
    "print(str2)"
   ]
  },
  {
   "cell_type": "code",
   "execution_count": 401,
   "id": "e9aa6dd0-e1fe-436f-8faa-e19e3ff7650b",
   "metadata": {},
   "outputs": [
    {
     "name": "stdout",
     "output_type": "stream",
     "text": [
      "***************************************** WELCOME EVERYONE *****************************************\n"
     ]
    }
   ],
   "source": [
    "str2 = \" WELCOME EVERYONE \"\n",
    "str2 = str2.center(100,'*') # center align the string using a specific character\n",
    "print(str2)"
   ]
  },
  {
   "cell_type": "code",
   "execution_count": 403,
   "id": "3f2a4159-6bbc-4e6f-ae9e-183677cabe6f",
   "metadata": {},
   "outputs": [
    {
     "name": "stdout",
     "output_type": "stream",
     "text": [
      "                                 WELCOME EVERYONE \n"
     ]
    }
   ],
   "source": [
    "str2 = \" WELCOME EVERYONE \"\n",
    "str2 = str2.rjust(50) # Right align the string using a specific character as the\n",
    "print(str2)"
   ]
  },
  {
   "cell_type": "code",
   "execution_count": 407,
   "id": "dd688447-418b-46db-903d-86db3a5ddc88",
   "metadata": {},
   "outputs": [
    {
     "name": "stdout",
     "output_type": "stream",
     "text": [
      "******************************** WELCOME EVERYONE \n"
     ]
    }
   ],
   "source": [
    "str2 = \" WELCOME EVERYONE \"\n",
    "str2 = str2.rjust(50,'*') # Right align the string using a specific character ('*')\n",
    "#rjust() method to right-justify the string str2.\n",
    "print(str2)"
   ]
  },
  {
   "cell_type": "code",
   "execution_count": 409,
   "id": "fc34a5ea-f7e9-4357-a4ca-f6fca4dd992f",
   "metadata": {},
   "outputs": [
    {
     "name": "stdout",
     "output_type": "stream",
     "text": [
      "19\n"
     ]
    }
   ],
   "source": [
    "str4 = \"one two three four five six seven\"\n",
    "loc = str4.find(\"five\") # Find the location of word 'five' in the string \"str4\"\n",
    "print(loc)"
   ]
  },
  {
   "cell_type": "code",
   "execution_count": 413,
   "id": "b964e959-3f45-4d37-ad9c-503f447885b5",
   "metadata": {},
   "outputs": [
    {
     "name": "stdout",
     "output_type": "stream",
     "text": [
      "False\n",
      "True\n",
      "True\n",
      "True\n"
     ]
    }
   ],
   "source": [
    "mystr6 = '123456789'\n",
    "print(mystr6.isalpha()) # returns True if all the characters in the text are letter\n",
    "print(mystr6.isalnum()) # returns True if a string contains only letters or number\n",
    "print(mystr6.isdecimal()) # returns True if all the characters are decimals (0-9)\n",
    "print(mystr6.isnumeric()) # returns True if all the characters are numeric (0-9)"
   ]
  },
  {
   "cell_type": "code",
   "execution_count": 417,
   "id": "238be54d-26f9-4e44-9fb2-35e323efd4ef",
   "metadata": {},
   "outputs": [
    {
     "name": "stdout",
     "output_type": "stream",
     "text": [
      "False\n",
      "True\n",
      "False\n",
      "False\n"
     ]
    }
   ],
   "source": [
    "mystr6 = 'abc12309'\n",
    "print(mystr6.isalpha()) # returns True if all the characters in the text are lett\n",
    "print(mystr6.isalnum()) # returns True if a string contains only letters or numb\n",
    "print(mystr6.isdecimal()) # returns True if all the characters are decimals (0-9)\n",
    "print(mystr6.isnumeric()) # returns True if all the characters are numeric (0-9"
   ]
  },
  {
   "cell_type": "code",
   "execution_count": 419,
   "id": "e934795a-c705-4760-bedf-686af47a5b5d",
   "metadata": {},
   "outputs": [
    {
     "name": "stdout",
     "output_type": "stream",
     "text": [
      "True\n",
      "False\n"
     ]
    }
   ],
   "source": [
    "mystr7 = 'ABCDEF'\n",
    "print(mystr7.isupper()) # Returns True if all the characters are in upper case\n",
    "print(mystr7.islower()) # Returns True if all the characters are in lower case"
   ]
  },
  {
   "cell_type": "code",
   "execution_count": 423,
   "id": "7589723d-af76-4618-a8a2-bfe9bb6b45bd",
   "metadata": {},
   "outputs": [
    {
     "name": "stdout",
     "output_type": "stream",
     "text": [
      "51\n"
     ]
    }
   ],
   "source": [
    "str6 = \"one two three four one two two three five five six one ten eight ten nine\"\n",
    "loc = str6.rfind(\"one\") # last occurrence of word 'one' in string \"str6\"\n",
    "print(loc)"
   ]
  },
  {
   "cell_type": "code",
   "execution_count": 425,
   "id": "8f742b2c-805c-4297-896c-d5d4574d8318",
   "metadata": {},
   "outputs": [
    {
     "data": {
      "text/plain": [
       "' abc def ghi'"
      ]
     },
     "execution_count": 425,
     "metadata": {},
     "output_type": "execute_result"
    }
   ],
   "source": [
    "txt = \" abc def ghi \"\n",
    "txt.rstrip()"
   ]
  },
  {
   "cell_type": "code",
   "execution_count": 427,
   "id": "c155cd1a-5663-427a-8010-892e69da2dd2",
   "metadata": {},
   "outputs": [
    {
     "data": {
      "text/plain": [
       "'abc def ghi '"
      ]
     },
     "execution_count": 427,
     "metadata": {},
     "output_type": "execute_result"
    }
   ],
   "source": [
    "txt = \" abc def ghi \"\n",
    "txt.lstrip()"
   ]
  },
  {
   "cell_type": "markdown",
   "id": "739756f7-8628-419c-adf0-75a8fade82a5",
   "metadata": {},
   "source": [
    "# Using Escape Character"
   ]
  },
  {
   "cell_type": "code",
   "execution_count": null,
   "id": "e84eddc2-bff3-4af7-844c-503f027932a4",
   "metadata": {},
   "outputs": [],
   "source": [
    "#Using double quotes in the string is not allowed.\n",
    "#mystr = \"My favourite TV Series is \"Game of Thrones\"\""
   ]
  },
  {
   "cell_type": "code",
   "execution_count": 436,
   "id": "a7e762e1-122a-4029-9b9f-a50d134f1d50",
   "metadata": {},
   "outputs": [
    {
     "name": "stdout",
     "output_type": "stream",
     "text": [
      "My favourite series is \"Game of Thrones\"\n"
     ]
    }
   ],
   "source": [
    "\n",
    "#Using escape character to allow illegal characters\n",
    "mystr = \"My favourite series is \\\"Game of Thrones\\\"\"\n",
    "print(mystr)"
   ]
  },
  {
   "cell_type": "markdown",
   "id": "5342168b-a695-4e87-b386-e8875e444742",
   "metadata": {},
   "source": [
    "# List\n",
    "## 1) List is an ordered sequence of items.\n",
    "## 2) We can have different data types under a list. E.g we can have integer, float and string items in a same lis"
   ]
  },
  {
   "cell_type": "code",
   "execution_count": null,
   "id": "0122dc66-8b2f-485f-8374-bd551e75267c",
   "metadata": {},
   "outputs": [],
   "source": []
  }
 ],
 "metadata": {
  "kernelspec": {
   "display_name": "Python 3 (ipykernel)",
   "language": "python",
   "name": "python3"
  },
  "language_info": {
   "codemirror_mode": {
    "name": "ipython",
    "version": 3
   },
   "file_extension": ".py",
   "mimetype": "text/x-python",
   "name": "python",
   "nbconvert_exporter": "python",
   "pygments_lexer": "ipython3",
   "version": "3.12.7"
  }
 },
 "nbformat": 4,
 "nbformat_minor": 5
}
